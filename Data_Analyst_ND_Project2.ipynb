{
 "cells": [
  {
   "cell_type": "markdown",
   "metadata": {},
   "source": [
    "#### * What I need to do.\n",
    "A note specifying which dataset you analyzed\n",
    "\n",
    "A statement of the question(s) you posed\n",
    "\n",
    "A description of what you did to investigate those questions\n",
    "\n",
    "Documentation of any data wrangling you did\n",
    "\n",
    "Summary statistics and plots communicating your final results"
   ]
  },
  {
   "cell_type": "markdown",
   "metadata": {},
   "source": [
    "### 1. Dataset \n",
    "Titanic Data: As you can see from the following output, there are 12 variables and the number of passengers are 891."
   ]
  },
  {
   "cell_type": "code",
   "execution_count": 2,
   "metadata": {
    "collapsed": false
   },
   "outputs": [
    {
     "name": "stdout",
     "output_type": "stream",
     "text": [
      "PassengerId                          1\n",
      "Survived                             0\n",
      "Pclass                               3\n",
      "Name           Braund, Mr. Owen Harris\n",
      "Sex                               male\n",
      "Age                                 22\n",
      "SibSp                                1\n",
      "Parch                                0\n",
      "Ticket                       A/5 21171\n",
      "Fare                              7.25\n",
      "Cabin                              NaN\n",
      "Embarked                             S\n",
      "Name: 0, dtype: object\n",
      "891\n"
     ]
    }
   ],
   "source": [
    "#import unicodecsv\n",
    "import pandas as pd\n",
    "import numpy as np\n",
    "\n",
    "#def read_csv(filename):\n",
    "#    with open(filename, 'rb') as f:\n",
    "#        reader = unicodecsv.DictReader(f)\n",
    "#        return list(reader)\n",
    "\n",
    "# Read the dataset|\n",
    "path = r'C:/Users/Jungmin/Downloads/titanic_data.csv'\n",
    "dataFrame = pd.read_csv(path)\n",
    "\n",
    "# Print the first row\n",
    "print dataFrame.iloc[0]\n",
    "\n",
    "# Print the number of row\n",
    "print len(dataFrame) "
   ]
  },
  {
   "cell_type": "code",
   "execution_count": 3,
   "metadata": {
    "collapsed": false
   },
   "outputs": [
    {
     "name": "stdout",
     "output_type": "stream",
     "text": [
      "PassengerId      int64\n",
      "Survived         int64\n",
      "Pclass           int64\n",
      "Name            object\n",
      "Sex             object\n",
      "Age            float64\n",
      "SibSp            int64\n",
      "Parch            int64\n",
      "Ticket          object\n",
      "Fare           float64\n",
      "Cabin           object\n",
      "Embarked        object\n",
      "dtype: object\n"
     ]
    }
   ],
   "source": [
    "# Check the data type\n",
    "print dataFrame.dtypes"
   ]
  },
  {
   "cell_type": "markdown",
   "metadata": {},
   "source": [
    "### 2. The question\n",
    "What factors made people more likely to survive?\n",
    "\n",
    "### 3. Important Variables\n",
    "Dependent variable: Survived / Independent variables: Pclass, Sex, Age, SibSp, Parch\n",
    "\n",
    "According to the description of this dataset, Pclass represents the socio-economy status(SES). Therefore, to look up the relationship between the wealth and the survival rate, Pclass is great indicator instead of Ticket and Fare. \n",
    "I assume that people tried to save more females than males.\n",
    "I assume that people tried to save more children and seniors than young adults.\n",
    "I assume that if a person had members of family, they would be easy to survive because they could help each other. Finally, I think that variables, Name, Cabin, and Embarked, are not significantly important whether to survive."
   ]
  },
  {
   "cell_type": "markdown",
   "metadata": {},
   "source": [
    "### 4. Data manupulation\n",
    "Since I will not use five variables(Name, Tiket, Fare, Cabin, and Embarked) to investigate, I will clean them."
   ]
  },
  {
   "cell_type": "code",
   "execution_count": 4,
   "metadata": {
    "collapsed": false
   },
   "outputs": [
    {
     "name": "stdout",
     "output_type": "stream",
     "text": [
      "PassengerId       1\n",
      "Survived          0\n",
      "Pclass            3\n",
      "Sex            male\n",
      "Age              22\n",
      "SibSp             1\n",
      "Parch             0\n",
      "Name: 0, dtype: object\n"
     ]
    }
   ],
   "source": [
    "# Remove five columns that I don't use\n",
    "dataFrame.drop(dataFrame.columns[[3,8,9,10,11]], axis=1, inplace=True)\n",
    "\n",
    "# Print the first row\n",
    "print dataFrame.iloc[0]"
   ]
  },
  {
   "cell_type": "code",
   "execution_count": 5,
   "metadata": {
    "collapsed": false
   },
   "outputs": [
    {
     "name": "stdout",
     "output_type": "stream",
     "text": [
      "PassengerId: 0\n",
      "Survived: 0\n",
      "Pclass: 0\n",
      "Sex: 0\n",
      "Age: 177\n",
      "SibSp: 0\n",
      "Parch: 0\n"
     ]
    }
   ],
   "source": [
    "# Calculate number of missing values in each column. \n",
    "for col_name in dataFrame.columns:\n",
    "    print ('{0}: {1}'.format(col_name,sum(dataFrame[col_name].isnull())))"
   ]
  },
  {
   "cell_type": "code",
   "execution_count": 6,
   "metadata": {
    "collapsed": false
   },
   "outputs": [
    {
     "data": {
      "text/html": [
       "<div>\n",
       "<table border=\"1\" class=\"dataframe\">\n",
       "  <thead>\n",
       "    <tr style=\"text-align: right;\">\n",
       "      <th></th>\n",
       "      <th>PassengerId</th>\n",
       "      <th>Survived</th>\n",
       "      <th>Pclass</th>\n",
       "      <th>Sex</th>\n",
       "      <th>Age</th>\n",
       "      <th>SibSp</th>\n",
       "      <th>Parch</th>\n",
       "    </tr>\n",
       "  </thead>\n",
       "  <tbody>\n",
       "    <tr>\n",
       "      <th>0</th>\n",
       "      <td>1</td>\n",
       "      <td>0</td>\n",
       "      <td>3</td>\n",
       "      <td>male</td>\n",
       "      <td>22.0</td>\n",
       "      <td>1</td>\n",
       "      <td>0</td>\n",
       "    </tr>\n",
       "    <tr>\n",
       "      <th>1</th>\n",
       "      <td>2</td>\n",
       "      <td>1</td>\n",
       "      <td>1</td>\n",
       "      <td>female</td>\n",
       "      <td>38.0</td>\n",
       "      <td>1</td>\n",
       "      <td>0</td>\n",
       "    </tr>\n",
       "    <tr>\n",
       "      <th>2</th>\n",
       "      <td>3</td>\n",
       "      <td>1</td>\n",
       "      <td>3</td>\n",
       "      <td>female</td>\n",
       "      <td>26.0</td>\n",
       "      <td>0</td>\n",
       "      <td>0</td>\n",
       "    </tr>\n",
       "    <tr>\n",
       "      <th>3</th>\n",
       "      <td>4</td>\n",
       "      <td>1</td>\n",
       "      <td>1</td>\n",
       "      <td>female</td>\n",
       "      <td>35.0</td>\n",
       "      <td>1</td>\n",
       "      <td>0</td>\n",
       "    </tr>\n",
       "    <tr>\n",
       "      <th>4</th>\n",
       "      <td>5</td>\n",
       "      <td>0</td>\n",
       "      <td>3</td>\n",
       "      <td>male</td>\n",
       "      <td>35.0</td>\n",
       "      <td>0</td>\n",
       "      <td>0</td>\n",
       "    </tr>\n",
       "    <tr>\n",
       "      <th>6</th>\n",
       "      <td>7</td>\n",
       "      <td>0</td>\n",
       "      <td>1</td>\n",
       "      <td>male</td>\n",
       "      <td>54.0</td>\n",
       "      <td>0</td>\n",
       "      <td>0</td>\n",
       "    </tr>\n",
       "    <tr>\n",
       "      <th>7</th>\n",
       "      <td>8</td>\n",
       "      <td>0</td>\n",
       "      <td>3</td>\n",
       "      <td>male</td>\n",
       "      <td>2.0</td>\n",
       "      <td>3</td>\n",
       "      <td>1</td>\n",
       "    </tr>\n",
       "    <tr>\n",
       "      <th>8</th>\n",
       "      <td>9</td>\n",
       "      <td>1</td>\n",
       "      <td>3</td>\n",
       "      <td>female</td>\n",
       "      <td>27.0</td>\n",
       "      <td>0</td>\n",
       "      <td>2</td>\n",
       "    </tr>\n",
       "    <tr>\n",
       "      <th>9</th>\n",
       "      <td>10</td>\n",
       "      <td>1</td>\n",
       "      <td>2</td>\n",
       "      <td>female</td>\n",
       "      <td>14.0</td>\n",
       "      <td>1</td>\n",
       "      <td>0</td>\n",
       "    </tr>\n",
       "    <tr>\n",
       "      <th>10</th>\n",
       "      <td>11</td>\n",
       "      <td>1</td>\n",
       "      <td>3</td>\n",
       "      <td>female</td>\n",
       "      <td>4.0</td>\n",
       "      <td>1</td>\n",
       "      <td>1</td>\n",
       "    </tr>\n",
       "    <tr>\n",
       "      <th>11</th>\n",
       "      <td>12</td>\n",
       "      <td>1</td>\n",
       "      <td>1</td>\n",
       "      <td>female</td>\n",
       "      <td>58.0</td>\n",
       "      <td>0</td>\n",
       "      <td>0</td>\n",
       "    </tr>\n",
       "    <tr>\n",
       "      <th>12</th>\n",
       "      <td>13</td>\n",
       "      <td>0</td>\n",
       "      <td>3</td>\n",
       "      <td>male</td>\n",
       "      <td>20.0</td>\n",
       "      <td>0</td>\n",
       "      <td>0</td>\n",
       "    </tr>\n",
       "    <tr>\n",
       "      <th>13</th>\n",
       "      <td>14</td>\n",
       "      <td>0</td>\n",
       "      <td>3</td>\n",
       "      <td>male</td>\n",
       "      <td>39.0</td>\n",
       "      <td>1</td>\n",
       "      <td>5</td>\n",
       "    </tr>\n",
       "    <tr>\n",
       "      <th>14</th>\n",
       "      <td>15</td>\n",
       "      <td>0</td>\n",
       "      <td>3</td>\n",
       "      <td>female</td>\n",
       "      <td>14.0</td>\n",
       "      <td>0</td>\n",
       "      <td>0</td>\n",
       "    </tr>\n",
       "    <tr>\n",
       "      <th>15</th>\n",
       "      <td>16</td>\n",
       "      <td>1</td>\n",
       "      <td>2</td>\n",
       "      <td>female</td>\n",
       "      <td>55.0</td>\n",
       "      <td>0</td>\n",
       "      <td>0</td>\n",
       "    </tr>\n",
       "    <tr>\n",
       "      <th>16</th>\n",
       "      <td>17</td>\n",
       "      <td>0</td>\n",
       "      <td>3</td>\n",
       "      <td>male</td>\n",
       "      <td>2.0</td>\n",
       "      <td>4</td>\n",
       "      <td>1</td>\n",
       "    </tr>\n",
       "    <tr>\n",
       "      <th>18</th>\n",
       "      <td>19</td>\n",
       "      <td>0</td>\n",
       "      <td>3</td>\n",
       "      <td>female</td>\n",
       "      <td>31.0</td>\n",
       "      <td>1</td>\n",
       "      <td>0</td>\n",
       "    </tr>\n",
       "    <tr>\n",
       "      <th>20</th>\n",
       "      <td>21</td>\n",
       "      <td>0</td>\n",
       "      <td>2</td>\n",
       "      <td>male</td>\n",
       "      <td>35.0</td>\n",
       "      <td>0</td>\n",
       "      <td>0</td>\n",
       "    </tr>\n",
       "    <tr>\n",
       "      <th>21</th>\n",
       "      <td>22</td>\n",
       "      <td>1</td>\n",
       "      <td>2</td>\n",
       "      <td>male</td>\n",
       "      <td>34.0</td>\n",
       "      <td>0</td>\n",
       "      <td>0</td>\n",
       "    </tr>\n",
       "    <tr>\n",
       "      <th>22</th>\n",
       "      <td>23</td>\n",
       "      <td>1</td>\n",
       "      <td>3</td>\n",
       "      <td>female</td>\n",
       "      <td>15.0</td>\n",
       "      <td>0</td>\n",
       "      <td>0</td>\n",
       "    </tr>\n",
       "    <tr>\n",
       "      <th>23</th>\n",
       "      <td>24</td>\n",
       "      <td>1</td>\n",
       "      <td>1</td>\n",
       "      <td>male</td>\n",
       "      <td>28.0</td>\n",
       "      <td>0</td>\n",
       "      <td>0</td>\n",
       "    </tr>\n",
       "    <tr>\n",
       "      <th>24</th>\n",
       "      <td>25</td>\n",
       "      <td>0</td>\n",
       "      <td>3</td>\n",
       "      <td>female</td>\n",
       "      <td>8.0</td>\n",
       "      <td>3</td>\n",
       "      <td>1</td>\n",
       "    </tr>\n",
       "    <tr>\n",
       "      <th>25</th>\n",
       "      <td>26</td>\n",
       "      <td>1</td>\n",
       "      <td>3</td>\n",
       "      <td>female</td>\n",
       "      <td>38.0</td>\n",
       "      <td>1</td>\n",
       "      <td>5</td>\n",
       "    </tr>\n",
       "    <tr>\n",
       "      <th>27</th>\n",
       "      <td>28</td>\n",
       "      <td>0</td>\n",
       "      <td>1</td>\n",
       "      <td>male</td>\n",
       "      <td>19.0</td>\n",
       "      <td>3</td>\n",
       "      <td>2</td>\n",
       "    </tr>\n",
       "    <tr>\n",
       "      <th>30</th>\n",
       "      <td>31</td>\n",
       "      <td>0</td>\n",
       "      <td>1</td>\n",
       "      <td>male</td>\n",
       "      <td>40.0</td>\n",
       "      <td>0</td>\n",
       "      <td>0</td>\n",
       "    </tr>\n",
       "    <tr>\n",
       "      <th>33</th>\n",
       "      <td>34</td>\n",
       "      <td>0</td>\n",
       "      <td>2</td>\n",
       "      <td>male</td>\n",
       "      <td>66.0</td>\n",
       "      <td>0</td>\n",
       "      <td>0</td>\n",
       "    </tr>\n",
       "    <tr>\n",
       "      <th>34</th>\n",
       "      <td>35</td>\n",
       "      <td>0</td>\n",
       "      <td>1</td>\n",
       "      <td>male</td>\n",
       "      <td>28.0</td>\n",
       "      <td>1</td>\n",
       "      <td>0</td>\n",
       "    </tr>\n",
       "    <tr>\n",
       "      <th>35</th>\n",
       "      <td>36</td>\n",
       "      <td>0</td>\n",
       "      <td>1</td>\n",
       "      <td>male</td>\n",
       "      <td>42.0</td>\n",
       "      <td>1</td>\n",
       "      <td>0</td>\n",
       "    </tr>\n",
       "    <tr>\n",
       "      <th>37</th>\n",
       "      <td>38</td>\n",
       "      <td>0</td>\n",
       "      <td>3</td>\n",
       "      <td>male</td>\n",
       "      <td>21.0</td>\n",
       "      <td>0</td>\n",
       "      <td>0</td>\n",
       "    </tr>\n",
       "    <tr>\n",
       "      <th>38</th>\n",
       "      <td>39</td>\n",
       "      <td>0</td>\n",
       "      <td>3</td>\n",
       "      <td>female</td>\n",
       "      <td>18.0</td>\n",
       "      <td>2</td>\n",
       "      <td>0</td>\n",
       "    </tr>\n",
       "    <tr>\n",
       "      <th>...</th>\n",
       "      <td>...</td>\n",
       "      <td>...</td>\n",
       "      <td>...</td>\n",
       "      <td>...</td>\n",
       "      <td>...</td>\n",
       "      <td>...</td>\n",
       "      <td>...</td>\n",
       "    </tr>\n",
       "    <tr>\n",
       "      <th>856</th>\n",
       "      <td>857</td>\n",
       "      <td>1</td>\n",
       "      <td>1</td>\n",
       "      <td>female</td>\n",
       "      <td>45.0</td>\n",
       "      <td>1</td>\n",
       "      <td>1</td>\n",
       "    </tr>\n",
       "    <tr>\n",
       "      <th>857</th>\n",
       "      <td>858</td>\n",
       "      <td>1</td>\n",
       "      <td>1</td>\n",
       "      <td>male</td>\n",
       "      <td>51.0</td>\n",
       "      <td>0</td>\n",
       "      <td>0</td>\n",
       "    </tr>\n",
       "    <tr>\n",
       "      <th>858</th>\n",
       "      <td>859</td>\n",
       "      <td>1</td>\n",
       "      <td>3</td>\n",
       "      <td>female</td>\n",
       "      <td>24.0</td>\n",
       "      <td>0</td>\n",
       "      <td>3</td>\n",
       "    </tr>\n",
       "    <tr>\n",
       "      <th>860</th>\n",
       "      <td>861</td>\n",
       "      <td>0</td>\n",
       "      <td>3</td>\n",
       "      <td>male</td>\n",
       "      <td>41.0</td>\n",
       "      <td>2</td>\n",
       "      <td>0</td>\n",
       "    </tr>\n",
       "    <tr>\n",
       "      <th>861</th>\n",
       "      <td>862</td>\n",
       "      <td>0</td>\n",
       "      <td>2</td>\n",
       "      <td>male</td>\n",
       "      <td>21.0</td>\n",
       "      <td>1</td>\n",
       "      <td>0</td>\n",
       "    </tr>\n",
       "    <tr>\n",
       "      <th>862</th>\n",
       "      <td>863</td>\n",
       "      <td>1</td>\n",
       "      <td>1</td>\n",
       "      <td>female</td>\n",
       "      <td>48.0</td>\n",
       "      <td>0</td>\n",
       "      <td>0</td>\n",
       "    </tr>\n",
       "    <tr>\n",
       "      <th>864</th>\n",
       "      <td>865</td>\n",
       "      <td>0</td>\n",
       "      <td>2</td>\n",
       "      <td>male</td>\n",
       "      <td>24.0</td>\n",
       "      <td>0</td>\n",
       "      <td>0</td>\n",
       "    </tr>\n",
       "    <tr>\n",
       "      <th>865</th>\n",
       "      <td>866</td>\n",
       "      <td>1</td>\n",
       "      <td>2</td>\n",
       "      <td>female</td>\n",
       "      <td>42.0</td>\n",
       "      <td>0</td>\n",
       "      <td>0</td>\n",
       "    </tr>\n",
       "    <tr>\n",
       "      <th>866</th>\n",
       "      <td>867</td>\n",
       "      <td>1</td>\n",
       "      <td>2</td>\n",
       "      <td>female</td>\n",
       "      <td>27.0</td>\n",
       "      <td>1</td>\n",
       "      <td>0</td>\n",
       "    </tr>\n",
       "    <tr>\n",
       "      <th>867</th>\n",
       "      <td>868</td>\n",
       "      <td>0</td>\n",
       "      <td>1</td>\n",
       "      <td>male</td>\n",
       "      <td>31.0</td>\n",
       "      <td>0</td>\n",
       "      <td>0</td>\n",
       "    </tr>\n",
       "    <tr>\n",
       "      <th>869</th>\n",
       "      <td>870</td>\n",
       "      <td>1</td>\n",
       "      <td>3</td>\n",
       "      <td>male</td>\n",
       "      <td>4.0</td>\n",
       "      <td>1</td>\n",
       "      <td>1</td>\n",
       "    </tr>\n",
       "    <tr>\n",
       "      <th>870</th>\n",
       "      <td>871</td>\n",
       "      <td>0</td>\n",
       "      <td>3</td>\n",
       "      <td>male</td>\n",
       "      <td>26.0</td>\n",
       "      <td>0</td>\n",
       "      <td>0</td>\n",
       "    </tr>\n",
       "    <tr>\n",
       "      <th>871</th>\n",
       "      <td>872</td>\n",
       "      <td>1</td>\n",
       "      <td>1</td>\n",
       "      <td>female</td>\n",
       "      <td>47.0</td>\n",
       "      <td>1</td>\n",
       "      <td>1</td>\n",
       "    </tr>\n",
       "    <tr>\n",
       "      <th>872</th>\n",
       "      <td>873</td>\n",
       "      <td>0</td>\n",
       "      <td>1</td>\n",
       "      <td>male</td>\n",
       "      <td>33.0</td>\n",
       "      <td>0</td>\n",
       "      <td>0</td>\n",
       "    </tr>\n",
       "    <tr>\n",
       "      <th>873</th>\n",
       "      <td>874</td>\n",
       "      <td>0</td>\n",
       "      <td>3</td>\n",
       "      <td>male</td>\n",
       "      <td>47.0</td>\n",
       "      <td>0</td>\n",
       "      <td>0</td>\n",
       "    </tr>\n",
       "    <tr>\n",
       "      <th>874</th>\n",
       "      <td>875</td>\n",
       "      <td>1</td>\n",
       "      <td>2</td>\n",
       "      <td>female</td>\n",
       "      <td>28.0</td>\n",
       "      <td>1</td>\n",
       "      <td>0</td>\n",
       "    </tr>\n",
       "    <tr>\n",
       "      <th>875</th>\n",
       "      <td>876</td>\n",
       "      <td>1</td>\n",
       "      <td>3</td>\n",
       "      <td>female</td>\n",
       "      <td>15.0</td>\n",
       "      <td>0</td>\n",
       "      <td>0</td>\n",
       "    </tr>\n",
       "    <tr>\n",
       "      <th>876</th>\n",
       "      <td>877</td>\n",
       "      <td>0</td>\n",
       "      <td>3</td>\n",
       "      <td>male</td>\n",
       "      <td>20.0</td>\n",
       "      <td>0</td>\n",
       "      <td>0</td>\n",
       "    </tr>\n",
       "    <tr>\n",
       "      <th>877</th>\n",
       "      <td>878</td>\n",
       "      <td>0</td>\n",
       "      <td>3</td>\n",
       "      <td>male</td>\n",
       "      <td>19.0</td>\n",
       "      <td>0</td>\n",
       "      <td>0</td>\n",
       "    </tr>\n",
       "    <tr>\n",
       "      <th>879</th>\n",
       "      <td>880</td>\n",
       "      <td>1</td>\n",
       "      <td>1</td>\n",
       "      <td>female</td>\n",
       "      <td>56.0</td>\n",
       "      <td>0</td>\n",
       "      <td>1</td>\n",
       "    </tr>\n",
       "    <tr>\n",
       "      <th>880</th>\n",
       "      <td>881</td>\n",
       "      <td>1</td>\n",
       "      <td>2</td>\n",
       "      <td>female</td>\n",
       "      <td>25.0</td>\n",
       "      <td>0</td>\n",
       "      <td>1</td>\n",
       "    </tr>\n",
       "    <tr>\n",
       "      <th>881</th>\n",
       "      <td>882</td>\n",
       "      <td>0</td>\n",
       "      <td>3</td>\n",
       "      <td>male</td>\n",
       "      <td>33.0</td>\n",
       "      <td>0</td>\n",
       "      <td>0</td>\n",
       "    </tr>\n",
       "    <tr>\n",
       "      <th>882</th>\n",
       "      <td>883</td>\n",
       "      <td>0</td>\n",
       "      <td>3</td>\n",
       "      <td>female</td>\n",
       "      <td>22.0</td>\n",
       "      <td>0</td>\n",
       "      <td>0</td>\n",
       "    </tr>\n",
       "    <tr>\n",
       "      <th>883</th>\n",
       "      <td>884</td>\n",
       "      <td>0</td>\n",
       "      <td>2</td>\n",
       "      <td>male</td>\n",
       "      <td>28.0</td>\n",
       "      <td>0</td>\n",
       "      <td>0</td>\n",
       "    </tr>\n",
       "    <tr>\n",
       "      <th>884</th>\n",
       "      <td>885</td>\n",
       "      <td>0</td>\n",
       "      <td>3</td>\n",
       "      <td>male</td>\n",
       "      <td>25.0</td>\n",
       "      <td>0</td>\n",
       "      <td>0</td>\n",
       "    </tr>\n",
       "    <tr>\n",
       "      <th>885</th>\n",
       "      <td>886</td>\n",
       "      <td>0</td>\n",
       "      <td>3</td>\n",
       "      <td>female</td>\n",
       "      <td>39.0</td>\n",
       "      <td>0</td>\n",
       "      <td>5</td>\n",
       "    </tr>\n",
       "    <tr>\n",
       "      <th>886</th>\n",
       "      <td>887</td>\n",
       "      <td>0</td>\n",
       "      <td>2</td>\n",
       "      <td>male</td>\n",
       "      <td>27.0</td>\n",
       "      <td>0</td>\n",
       "      <td>0</td>\n",
       "    </tr>\n",
       "    <tr>\n",
       "      <th>887</th>\n",
       "      <td>888</td>\n",
       "      <td>1</td>\n",
       "      <td>1</td>\n",
       "      <td>female</td>\n",
       "      <td>19.0</td>\n",
       "      <td>0</td>\n",
       "      <td>0</td>\n",
       "    </tr>\n",
       "    <tr>\n",
       "      <th>889</th>\n",
       "      <td>890</td>\n",
       "      <td>1</td>\n",
       "      <td>1</td>\n",
       "      <td>male</td>\n",
       "      <td>26.0</td>\n",
       "      <td>0</td>\n",
       "      <td>0</td>\n",
       "    </tr>\n",
       "    <tr>\n",
       "      <th>890</th>\n",
       "      <td>891</td>\n",
       "      <td>0</td>\n",
       "      <td>3</td>\n",
       "      <td>male</td>\n",
       "      <td>32.0</td>\n",
       "      <td>0</td>\n",
       "      <td>0</td>\n",
       "    </tr>\n",
       "  </tbody>\n",
       "</table>\n",
       "<p>714 rows × 7 columns</p>\n",
       "</div>"
      ],
      "text/plain": [
       "     PassengerId  Survived  Pclass     Sex   Age  SibSp  Parch\n",
       "0              1         0       3    male  22.0      1      0\n",
       "1              2         1       1  female  38.0      1      0\n",
       "2              3         1       3  female  26.0      0      0\n",
       "3              4         1       1  female  35.0      1      0\n",
       "4              5         0       3    male  35.0      0      0\n",
       "6              7         0       1    male  54.0      0      0\n",
       "7              8         0       3    male   2.0      3      1\n",
       "8              9         1       3  female  27.0      0      2\n",
       "9             10         1       2  female  14.0      1      0\n",
       "10            11         1       3  female   4.0      1      1\n",
       "11            12         1       1  female  58.0      0      0\n",
       "12            13         0       3    male  20.0      0      0\n",
       "13            14         0       3    male  39.0      1      5\n",
       "14            15         0       3  female  14.0      0      0\n",
       "15            16         1       2  female  55.0      0      0\n",
       "16            17         0       3    male   2.0      4      1\n",
       "18            19         0       3  female  31.0      1      0\n",
       "20            21         0       2    male  35.0      0      0\n",
       "21            22         1       2    male  34.0      0      0\n",
       "22            23         1       3  female  15.0      0      0\n",
       "23            24         1       1    male  28.0      0      0\n",
       "24            25         0       3  female   8.0      3      1\n",
       "25            26         1       3  female  38.0      1      5\n",
       "27            28         0       1    male  19.0      3      2\n",
       "30            31         0       1    male  40.0      0      0\n",
       "33            34         0       2    male  66.0      0      0\n",
       "34            35         0       1    male  28.0      1      0\n",
       "35            36         0       1    male  42.0      1      0\n",
       "37            38         0       3    male  21.0      0      0\n",
       "38            39         0       3  female  18.0      2      0\n",
       "..           ...       ...     ...     ...   ...    ...    ...\n",
       "856          857         1       1  female  45.0      1      1\n",
       "857          858         1       1    male  51.0      0      0\n",
       "858          859         1       3  female  24.0      0      3\n",
       "860          861         0       3    male  41.0      2      0\n",
       "861          862         0       2    male  21.0      1      0\n",
       "862          863         1       1  female  48.0      0      0\n",
       "864          865         0       2    male  24.0      0      0\n",
       "865          866         1       2  female  42.0      0      0\n",
       "866          867         1       2  female  27.0      1      0\n",
       "867          868         0       1    male  31.0      0      0\n",
       "869          870         1       3    male   4.0      1      1\n",
       "870          871         0       3    male  26.0      0      0\n",
       "871          872         1       1  female  47.0      1      1\n",
       "872          873         0       1    male  33.0      0      0\n",
       "873          874         0       3    male  47.0      0      0\n",
       "874          875         1       2  female  28.0      1      0\n",
       "875          876         1       3  female  15.0      0      0\n",
       "876          877         0       3    male  20.0      0      0\n",
       "877          878         0       3    male  19.0      0      0\n",
       "879          880         1       1  female  56.0      0      1\n",
       "880          881         1       2  female  25.0      0      1\n",
       "881          882         0       3    male  33.0      0      0\n",
       "882          883         0       3  female  22.0      0      0\n",
       "883          884         0       2    male  28.0      0      0\n",
       "884          885         0       3    male  25.0      0      0\n",
       "885          886         0       3  female  39.0      0      5\n",
       "886          887         0       2    male  27.0      0      0\n",
       "887          888         1       1  female  19.0      0      0\n",
       "889          890         1       1    male  26.0      0      0\n",
       "890          891         0       3    male  32.0      0      0\n",
       "\n",
       "[714 rows x 7 columns]"
      ]
     },
     "execution_count": 6,
     "metadata": {},
     "output_type": "execute_result"
    }
   ],
   "source": [
    "# To avoid missing values distracting the analysis, drop the rows which have missing values\n",
    "dataFrame.dropna()\n",
    "# Display all the rows which have missing values in 'District' Column:\n",
    "#dataFrame.ix[dataFrame['Age'].isnull()] "
   ]
  },
  {
   "cell_type": "markdown",
   "metadata": {
    "collapsed": true
   },
   "source": [
    "After I cleaned the data, there are 714 rows left."
   ]
  },
  {
   "cell_type": "markdown",
   "metadata": {},
   "source": [
    "To distinguish children and seniors from young adults, I made a new column which is called \"Generation\".\n",
    "I defined chilren as people who are under 16 and seniors as people who are over 60.\n",
    "\n",
    "To distinguish whether he/she had a member of family in Titanic, I made a new column which is called \"Family\"\n",
    "If the number of SibSp and the number of Parch are both 0, it means he/she didn't have any member of famiily in Titanic. "
   ]
  },
  {
   "cell_type": "code",
   "execution_count": 7,
   "metadata": {
    "collapsed": false
   },
   "outputs": [
    {
     "name": "stdout",
     "output_type": "stream",
     "text": [
      "   PassengerId  Survived  Pclass     Sex  Generation    Family Survivor\n",
      "0            1         0       3    male  YoungAdult  NotAlone       no\n",
      "1            2         1       1  female  YoungAdult  NotAlone      yes\n",
      "2            3         1       3  female  YoungAdult     Alone      yes\n",
      "3            4         1       1  female  YoungAdult  NotAlone      yes\n",
      "4            5         0       3    male  YoungAdult     Alone       no\n",
      "5            6         0       3    male  YoungAdult     Alone       no\n",
      "6            7         0       1    male  YoungAdult     Alone       no\n",
      "7            8         0       3    male       Child  NotAlone       no\n",
      "8            9         1       3  female  YoungAdult  NotAlone      yes\n",
      "9           10         1       2  female       Child  NotAlone      yes\n"
     ]
    }
   ],
   "source": [
    "def generation(passenger):\n",
    "    age = passenger\n",
    "    if age<16:\n",
    "        return 'Child'\n",
    "    elif age>60:\n",
    "        return 'Senior'\n",
    "    else:\n",
    "        return 'YoungAdult'\n",
    "    \n",
    "def family(passenger):\n",
    "    sibsp, parch = passenger\n",
    "    if sibsp==0 and parch==0:\n",
    "        return 'Alone'\n",
    "    else:\n",
    "        return 'NotAlone'\n",
    "    \n",
    "dataFrame['Generation'] = dataFrame['Age'].apply(generation)\n",
    "dataFrame['Family'] = dataFrame[['SibSp','Parch']].apply(family, axis=1)\n",
    "dataFrame['Survivor'] = dataFrame.Survived.map({0:\"no\",1:\"yes\"})\n",
    "\n",
    "# Remove four columns that I don't use\n",
    "dataFrame.drop(dataFrame.columns[[4,5,6]], axis=1, inplace=True)\n",
    "\n",
    "print dataFrame[0:10]"
   ]
  },
  {
   "cell_type": "markdown",
   "metadata": {},
   "source": [
    "### 5. Data exploration"
   ]
  },
  {
   "cell_type": "code",
   "execution_count": 8,
   "metadata": {
    "collapsed": false
   },
   "outputs": [
    {
     "name": "stdout",
     "output_type": "stream",
     "text": [
      "Populating the interactive namespace from numpy and matplotlib\n"
     ]
    },
    {
     "data": {
      "text/plain": [
       "<matplotlib.axes._subplots.AxesSubplot at 0xac2a198>"
      ]
     },
     "execution_count": 8,
     "metadata": {},
     "output_type": "execute_result"
    },
    {
     "data": {
      "image/png": "[encoded data removed]",
      "text/plain": [
       "<matplotlib.figure.Figure at 0xac0a940>"
      ]
     },
     "metadata": {},
     "output_type": "display_data"
    }
   ],
   "source": [
    "%pylab inline\n",
    "import seaborn as sns\n",
    "\n",
    "sns.countplot('Survivor',data=dataFrame)"
   ]
  },
  {
   "cell_type": "code",
   "execution_count": 9,
   "metadata": {
    "collapsed": false
   },
   "outputs": [
    {
     "data": {
      "text/plain": [
       "no     549\n",
       "yes    342\n",
       "Name: Survivor, dtype: int64"
      ]
     },
     "execution_count": 9,
     "metadata": {},
     "output_type": "execute_result"
    }
   ],
   "source": [
    "dataFrame['Survivor'].value_counts()"
   ]
  },
  {
   "cell_type": "code",
   "execution_count": 10,
   "metadata": {
    "collapsed": false
   },
   "outputs": [
    {
     "data": {
      "text/plain": [
       "<matplotlib.axes._subplots.AxesSubplot at 0xac974a8>"
      ]
     },
     "execution_count": 10,
     "metadata": {},
     "output_type": "execute_result"
    },
    {
     "data": {
      "image/png": "[encoded data removed]",
      "text/plain": [
       "<matplotlib.figure.Figure at 0x7d0e7f0>"
      ]
     },
     "metadata": {},
     "output_type": "display_data"
    }
   ],
   "source": [
    "sns.countplot(x=\"Pclass\", hue=\"Survivor\", data=dataFrame, palette=\"Greens_d\")"
   ]
  },
  {
   "cell_type": "markdown",
   "metadata": {},
   "source": [
    "According to the above graph, it seems like the higer class people could survive more than the lower class people."
   ]
  },
  {
   "cell_type": "code",
   "execution_count": 11,
   "metadata": {
    "collapsed": false
   },
   "outputs": [
    {
     "data": {
      "text/plain": [
       "<matplotlib.axes._subplots.AxesSubplot at 0xafa5dd8>"
      ]
     },
     "execution_count": 11,
     "metadata": {},
     "output_type": "execute_result"
    },
    {
     "data": {
      "image/png": "[encoded data removed]",
      "text/plain": [
       "<matplotlib.figure.Figure at 0xacb67f0>"
      ]
     },
     "metadata": {},
     "output_type": "display_data"
    }
   ],
   "source": [
    "sns.countplot(x=\"Sex\", hue=\"Survivor\", data=dataFrame, palette=\"Greens_d\")"
   ]
  },
  {
   "cell_type": "markdown",
   "metadata": {},
   "source": [
    "According to the above graph, it seems like females could survive more than males."
   ]
  },
  {
   "cell_type": "code",
   "execution_count": 12,
   "metadata": {
    "collapsed": false
   },
   "outputs": [
    {
     "data": {
      "text/plain": [
       "<matplotlib.axes._subplots.AxesSubplot at 0xaf8fda0>"
      ]
     },
     "execution_count": 12,
     "metadata": {},
     "output_type": "execute_result"
    },
    {
     "data": {
      "image/png": "[encoded data removed]",
      "text/plain": [
       "<matplotlib.figure.Figure at 0xacc10b8>"
      ]
     },
     "metadata": {},
     "output_type": "display_data"
    }
   ],
   "source": [
    "sns.countplot(x=\"Generation\", hue=\"Survivor\", data=dataFrame, palette=\"Greens_d\")"
   ]
  },
  {
   "cell_type": "markdown",
   "metadata": {
    "collapsed": true
   },
   "source": [
    "According to the above graph, it seems like children could survive more than others."
   ]
  },
  {
   "cell_type": "code",
   "execution_count": 13,
   "metadata": {
    "collapsed": false
   },
   "outputs": [
    {
     "data": {
      "text/plain": [
       "<matplotlib.axes._subplots.AxesSubplot at 0xae41438>"
      ]
     },
     "execution_count": 13,
     "metadata": {},
     "output_type": "execute_result"
    },
    {
     "data": {
      "image/png": "[encoded data removed]",
      "text/plain": [
       "<matplotlib.figure.Figure at 0xbec4080>"
      ]
     },
     "metadata": {},
     "output_type": "display_data"
    }
   ],
   "source": [
    "sns.countplot(x=\"Family\", hue=\"Survivor\", data=dataFrame, palette=\"Greens_d\")"
   ]
  },
  {
   "cell_type": "markdown",
   "metadata": {},
   "source": [
    "According to the above graph, it seems like people who have a member of family could survive more than people who are alone."
   ]
  },
  {
   "cell_type": "code",
   "execution_count": 14,
   "metadata": {
    "collapsed": false
   },
   "outputs": [
    {
     "data": {
      "text/plain": [
       "<matplotlib.axes._subplots.AxesSubplot at 0xc32e9b0>"
      ]
     },
     "execution_count": 14,
     "metadata": {},
     "output_type": "execute_result"
    },
    {
     "data": {
      "image/png": "[encoded data removed]",
      "text/plain": [
       "<matplotlib.figure.Figure at 0xc2c5b00>"
      ]
     },
     "metadata": {},
     "output_type": "display_data"
    }
   ],
   "source": [
    "sns.pointplot(x=\"Sex\", y=\"Survived\", hue=\"Pclass\", data=dataFrame)"
   ]
  },
  {
   "cell_type": "markdown",
   "metadata": {},
   "source": [
    "According to the above graph, it seems like females who belong to higher class could survive more than others."
   ]
  },
  {
   "cell_type": "code",
   "execution_count": 15,
   "metadata": {
    "collapsed": false
   },
   "outputs": [
    {
     "data": {
      "text/plain": [
       "<matplotlib.axes._subplots.AxesSubplot at 0xc32e1d0>"
      ]
     },
     "execution_count": 15,
     "metadata": {},
     "output_type": "execute_result"
    },
    {
     "data": {
      "image/png": "[encoded data removed]",
      "text/plain": [
       "<matplotlib.figure.Figure at 0xc5242e8>"
      ]
     },
     "metadata": {},
     "output_type": "display_data"
    }
   ],
   "source": [
    "sns.pointplot(x=\"Sex\", y=\"Survived\", hue=\"Generation\", data=dataFrame)"
   ]
  },
  {
   "cell_type": "markdown",
   "metadata": {},
   "source": [
    "According to the above graph, it seems like in case of males, the yougner they are, the more they could survive, but in case of females, the older they are, the more they could survive."
   ]
  },
  {
   "cell_type": "markdown",
   "metadata": {},
   "source": [
    "By using Chi-square test, we can see there are some association between two categorical variables."
   ]
  },
  {
   "cell_type": "code",
   "execution_count": 18,
   "metadata": {
    "collapsed": false
   },
   "outputs": [
    {
     "name": "stdout",
     "output_type": "stream",
     "text": [
      "Pclass      1   2    3\n",
      "Survivor              \n",
      "no         80  97  372\n",
      "yes       136  87  119\n"
     ]
    }
   ],
   "source": [
    "import scipy.stats\n",
    "\n",
    "# Contingency table of observed counts(Pclass)\n",
    "ctPclass = pd.crosstab(dataFrame['Survivor'], dataFrame['Pclass'])\n",
    "print ctPclass"
   ]
  },
  {
   "cell_type": "code",
   "execution_count": 19,
   "metadata": {
    "collapsed": false
   },
   "outputs": [
    {
     "name": "stdout",
     "output_type": "stream",
     "text": [
      "Pclass          1         2         3\n",
      "Survivor                             \n",
      "no        0.37037  0.527174  0.757637\n",
      "yes       0.62963  0.472826  0.242363\n"
     ]
    }
   ],
   "source": [
    "# Column percentages(Pclass)\n",
    "colsum = ctPclass.sum(axis=0)\n",
    "colpct = ctPclass/colsum\n",
    "print (colpct)"
   ]
  },
  {
   "cell_type": "code",
   "execution_count": 20,
   "metadata": {
    "collapsed": false
   },
   "outputs": [
    {
     "name": "stdout",
     "output_type": "stream",
     "text": [
      "chi-square value, p value, expected counts\n",
      "(102.88898875696056, 4.5492517112987927e-23, 2L, array([[ 133.09090909,  113.37373737,  302.53535354],\n",
      "       [  82.90909091,   70.62626263,  188.46464646]]))\n"
     ]
    }
   ],
   "source": [
    "# Chi-square(Pclass)\n",
    "print 'chi-square value, p value, expected counts'\n",
    "csPclass = scipy.stats.chi2_contingency(ctPclass)\n",
    "print (csPclass)"
   ]
  },
  {
   "cell_type": "code",
   "execution_count": 21,
   "metadata": {
    "collapsed": false
   },
   "outputs": [
    {
     "name": "stdout",
     "output_type": "stream",
     "text": [
      "Sex       female  male\n",
      "Survivor              \n",
      "no            81   468\n",
      "yes          233   109\n"
     ]
    }
   ],
   "source": [
    "# Contingency table of observed counts(Sex)\n",
    "ctSex = pd.crosstab(dataFrame['Survivor'], dataFrame['Sex'])\n",
    "print ctSex"
   ]
  },
  {
   "cell_type": "code",
   "execution_count": 22,
   "metadata": {
    "collapsed": false
   },
   "outputs": [
    {
     "name": "stdout",
     "output_type": "stream",
     "text": [
      "Sex         female      male\n",
      "Survivor                    \n",
      "no        0.257962  0.811092\n",
      "yes       0.742038  0.188908\n"
     ]
    }
   ],
   "source": [
    "# Column percentages(Sex)\n",
    "colsum = ctSex.sum(axis=0)\n",
    "colpct = ctSex/colsum\n",
    "print (colpct)"
   ]
  },
  {
   "cell_type": "code",
   "execution_count": 23,
   "metadata": {
    "collapsed": false
   },
   "outputs": [
    {
     "name": "stdout",
     "output_type": "stream",
     "text": [
      "chi-square value, p value, expected counts\n",
      "(260.71702016732104, 1.1973570627755645e-58, 1L, array([[ 193.47474747,  355.52525253],\n",
      "       [ 120.52525253,  221.47474747]]))\n"
     ]
    }
   ],
   "source": [
    "# Chi-square(Sex)\n",
    "print 'chi-square value, p value, expected counts'\n",
    "csSex = scipy.stats.chi2_contingency(ctSex)\n",
    "print (csSex)"
   ]
  },
  {
   "cell_type": "code",
   "execution_count": 24,
   "metadata": {
    "collapsed": false
   },
   "outputs": [
    {
     "name": "stdout",
     "output_type": "stream",
     "text": [
      "Generation  Child  Senior  YoungAdult\n",
      "Survivor                             \n",
      "no             34      17         498\n",
      "yes            49       5         288\n"
     ]
    }
   ],
   "source": [
    "# Contingency table of observed counts(Generation)\n",
    "ctGeneration = pd.crosstab(dataFrame['Survivor'], dataFrame['Generation'])\n",
    "print ctGeneration"
   ]
  },
  {
   "cell_type": "code",
   "execution_count": 25,
   "metadata": {
    "collapsed": false
   },
   "outputs": [
    {
     "name": "stdout",
     "output_type": "stream",
     "text": [
      "Generation     Child    Senior  YoungAdult\n",
      "Survivor                                  \n",
      "no          0.409639  0.772727    0.633588\n",
      "yes         0.590361  0.227273    0.366412\n"
     ]
    }
   ],
   "source": [
    "# Column percentages(Generation)\n",
    "colsum = ctGeneration.sum(axis=0)\n",
    "colpct = ctGeneration/colsum\n",
    "print (colpct)"
   ]
  },
  {
   "cell_type": "code",
   "execution_count": 26,
   "metadata": {
    "collapsed": false
   },
   "outputs": [
    {
     "name": "stdout",
     "output_type": "stream",
     "text": [
      "chi-square value, p value, expected counts\n",
      "(18.257701792290582, 0.00010849017998339112, 2L, array([[  51.14141414,   13.55555556,  484.3030303 ],\n",
      "       [  31.85858586,    8.44444444,  301.6969697 ]]))\n"
     ]
    }
   ],
   "source": [
    "# Chi-square(Generation)\n",
    "print 'chi-square value, p value, expected counts'\n",
    "csGeneration = scipy.stats.chi2_contingency(ctGeneration)\n",
    "print (csGeneration)"
   ]
  },
  {
   "cell_type": "code",
   "execution_count": 27,
   "metadata": {
    "collapsed": false
   },
   "outputs": [
    {
     "name": "stdout",
     "output_type": "stream",
     "text": [
      "Family    Alone  NotAlone\n",
      "Survivor                 \n",
      "no          374       175\n",
      "yes         163       179\n"
     ]
    }
   ],
   "source": [
    "# Contingency table of observed counts(Family)\n",
    "ctFamily = pd.crosstab(dataFrame['Survivor'], dataFrame['Family'])\n",
    "print ctFamily"
   ]
  },
  {
   "cell_type": "code",
   "execution_count": 28,
   "metadata": {
    "collapsed": false
   },
   "outputs": [
    {
     "name": "stdout",
     "output_type": "stream",
     "text": [
      "Family       Alone  NotAlone\n",
      "Survivor                    \n",
      "no        0.696462   0.49435\n",
      "yes       0.303538   0.50565\n"
     ]
    }
   ],
   "source": [
    "# Column percentages(Family)\n",
    "colsum = ctFamily.sum(axis=0)\n",
    "colpct = ctFamily/colsum\n",
    "print (colpct)"
   ]
  },
  {
   "cell_type": "code",
   "execution_count": 29,
   "metadata": {
    "collapsed": false
   },
   "outputs": [
    {
     "name": "stdout",
     "output_type": "stream",
     "text": [
      "chi-square value, p value, expected counts\n",
      "(36.00051446773864, 1.9726543846517183e-09, 1L, array([[ 330.87878788,  218.12121212],\n",
      "       [ 206.12121212,  135.87878788]]))\n"
     ]
    }
   ],
   "source": [
    "# Chi-square(Family)\n",
    "print 'chi-square value, p value, expected counts'\n",
    "csFamily = scipy.stats.chi2_contingency(ctFamily)\n",
    "print (csFamily)"
   ]
  },
  {
   "cell_type": "markdown",
   "metadata": {},
   "source": [
    "As you can see from the results of Chi-square tests, there is an assoication only between Generation and Survivor when the significance level is 0.05."
   ]
  },
  {
   "cell_type": "markdown",
   "metadata": {},
   "source": [
    "### 6. Conclusion "
   ]
  },
  {
   "cell_type": "markdown",
   "metadata": {},
   "source": [
    "There is no perfect way to deal with missing values. During the data wrangling phase, I tried to remove missing values. However, there are pros and cons. Actually, if we can research about the missing data and finaly find the real value, it would be good. However, I thought the cost and effort of patching the data up are more than throw the data out. In addition, by ommitting the missing values, there can be some bias, but in this case, I didn't think 177 missing value would be fatal.\n",
    "\n",
    "Futhermore, I cleaned a few variables, and there could be meaningful variables such as Fare and Cabin because Fare can  be one of indicators showing passenger's wealth and be used when we calculate correlation and Cabin can be used to analyze survivors by proximity. However, the reason I didn't use those variables is that there is not enough information which explains about Fare and there are a lot of missing data for Cabin. I could't push ahead with uncertainty and bias.\n",
    "\n",
    "Finally, as I analyzed, there are some factors made people more likely to survive. It seems like that passengers tried to rescue children, females, and higher class people first. But, by Chi-square test, I could recognize there is only one really important factor, Generation. In addition, there is one thing that we need to be careful. We can say there is a correlation between this factor and survivors. However, we can't say there is a cause and effect relationship because correlation doesn't imply causation. If these relationships happen normally and reasonably, there might be a causal relationship, but only with Titanic case, I can't say this is a causal relationship."
   ]
  }
 ],
 "metadata": {
  "anaconda-cloud": {},
  "kernelspec": {
   "display_name": "Python [Root]",
   "language": "python",
   "name": "Python [Root]"
  },
  "language_info": {
   "codemirror_mode": {
    "name": "ipython",
    "version": 2
   },
   "file_extension": ".py",
   "mimetype": "text/x-python",
   "name": "python",
   "nbconvert_exporter": "python",
   "pygments_lexer": "ipython2",
   "version": "2.7.12"
  }
 },
 "nbformat": 4,
 "nbformat_minor": 0
}
